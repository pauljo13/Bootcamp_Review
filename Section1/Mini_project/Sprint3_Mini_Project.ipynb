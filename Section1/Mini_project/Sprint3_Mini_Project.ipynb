{
  "nbformat": 4,
  "nbformat_minor": 0,
  "metadata": {
    "colab": {
      "provenance": []
    },
    "kernelspec": {
      "name": "python3",
      "display_name": "Python 3"
    },
    "language_info": {
      "name": "python"
    }
  },
  "cells": [
    {
      "cell_type": "markdown",
      "source": [
        "# **Sprint 3 Mini Project**\n"
      ],
      "metadata": {
        "id": "ozuNq4ntan5m"
      }
    },
    {
      "cell_type": "markdown",
      "source": [
        "## Sprint 학습 목표\n",
        "\n",
        "- 선형대수의 기본 개념(scalar, vector, matrix)과 그 필요성을 이해할 수 있다.\n",
        "- 머신러닝의 지도학습과 비지도학습의 차이점을 이해할 수 있다.\n",
        "  - 비지도학습의 종류인 차원축소와 클러스터링을 목적에 맞게 진행할 수 있다."
      ],
      "metadata": {
        "id": "TNlVAZ15azaz"
      }
    },
    {
      "cell_type": "markdown",
      "source": [
        "## Project 문제 정의"
      ],
      "metadata": {
        "id": "Dt5KsBNbbN1B"
      }
    },
    {
      "cell_type": "markdown",
      "source": [
        "### 배경\n",
        "\n",
        "> 여러분은 국제 NGO 기구에서 데이터 분석 업무를 담당하고 있습니다. 현재 해당 NGO에서는 확보한 자금을 효과적으로 사용하기 위해 논의 중입니다. 진행 중인 의사결정 중 가장 중요한 것은 **가장 도움이 필요한 국가**를 선정하는 것입니다. 따라서 여러분은 주어진 데이터의 국가들의 기본 건강 정보 및 사회적 경제적 정보를 바탕으로 국가 내의 발전 정도를 파악하여, 어느 국가에 가장 먼저 도움을 줄 것인지에 대한 인사이트를 도출하는 업무를 맡게 되었습니다."
      ],
      "metadata": {
        "id": "S_30oFfwbUUW"
      }
    },
    {
      "cell_type": "markdown",
      "source": [
        "### Project 목표\n",
        "\n",
        "- 국가별로 전반적인 소득, 생활, 경제 상황을 확인하고 군집화를 수행한다.\n",
        "- 어떤 국가에 우선적으로 집중하여 자금을 줄 것인지에 대한 인사이트를 도출한다. "
      ],
      "metadata": {
        "id": "0YP8FV0IawBo"
      }
    },
    {
      "cell_type": "markdown",
      "source": [
        "## **N131 - Linear Algebra**\n",
        "\n",
        "### 오늘의 목표\n",
        "- Vector, Matrix 연산을 통해 필요한 정보를 도출할 수 있다.\n",
        "- 선형 독립과 선형 종속의 의미를 이해할 수 있다.\n"
      ],
      "metadata": {
        "id": "jtAQyTDKbuGH"
      }
    },
    {
      "cell_type": "markdown",
      "source": [
        "### `Topic 1`: 데이터셋 전처리\n",
        "> 본격적으로 Project를 진행하기 위해 데이터셋을 불러와 전처리를 진행해봅시다.\n",
        "\n",
        "<br>\n",
        "\n",
        "🚨 **data description**\n",
        "\n",
        "- `country`: 국가명\n",
        "\n",
        "- `child_mort`: 5세 미만 영유아 사망률 (1000명 당)\n",
        "\n",
        "- `exports`: 전체 GDP 대비 수출 비율 (상품 및 서비스)\n",
        "\n",
        "- `health`: 전체 GDP 대비 의료 관련 총 소비율\n",
        "\n",
        "- `imports`: 전체 GDP 대비 수입 비율 (상품 및 서비스)\n",
        "\n",
        "- `Income`: 1인당 순 이익\n",
        "\n",
        "- `Inflation`: 인플레이션율\n",
        "\n",
        "- `life_expec`: 기대수명\n",
        "\n",
        "- `total_fer`: 합계출산율\n",
        "\n",
        "- `gdpp`: 1인당 GDP\n",
        "\n"
      ],
      "metadata": {
        "id": "0vOrRMndLZuF"
      }
    },
    {
      "cell_type": "markdown",
      "source": [
        "\n",
        "#### **1-1. pandas의 `read_csv` 함수를 활용하여 주어진 csv 파일을 `aid`라는 이름으로 불러오세요.**"
      ],
      "metadata": {
        "id": "VmMqcS5HPZpP"
      }
    },
    {
      "cell_type": "code",
      "source": [],
      "metadata": {
        "id": "rkuaIZoI_1l0"
      },
      "execution_count": null,
      "outputs": []
    },
    {
      "cell_type": "markdown",
      "source": [
        "#### **1-2. `aid`에 대해 품질의 문제와 구조적 문제가 있는지 확인 후 있다면 해결하세요.**"
      ],
      "metadata": {
        "id": "FtbFfUaYth4Z"
      }
    },
    {
      "cell_type": "code",
      "source": [],
      "metadata": {
        "id": "KA_WKmPU_3PO"
      },
      "execution_count": null,
      "outputs": []
    },
    {
      "cell_type": "markdown",
      "source": [
        "### `Topic 2`: Vector & Matrix 연산\n",
        "> 위에서 전처리를 마친 `aid`를 활용하여 연산을 진행해봅시다.\n",
        "\n"
      ],
      "metadata": {
        "id": "3hOs58uKQYa6"
      }
    },
    {
      "cell_type": "markdown",
      "source": [
        "#### **2-1. 좌표 평면 상에서 3 국가 간의 거리를 측정하여 어떤 국가 간의 거리가 가장 짧은지 구해보세요.**\n",
        "- `aid` 내 index가 2,4,6인 국가를 추출하세요.\n",
        "- 해당 국가들의 데이터를 가지고 exports와 imports를 각각 x축, y축으로 하는 scatterplot을 그려보세요.\n",
        "- 국가들 간의 거리를 Vector의 길이 공식을 활용하여 계산해보세요.\n",
        "  - $||v|| = \\sqrt{a^2 + b^2 + c^2 + \\cdots}$"
      ],
      "metadata": {
        "id": "9ve5Puc5QuKn"
      }
    },
    {
      "cell_type": "code",
      "source": [],
      "metadata": {
        "id": "JHbJpsIH_4rr"
      },
      "execution_count": null,
      "outputs": []
    },
    {
      "cell_type": "markdown",
      "source": [
        "#### **2-2. 행렬곱을 사용하여 10개 국의 총 임금의 합을 계산해보세요.**\n",
        "- `aid` 내 index가 0~9인 국가를 추출하세요.\n",
        "- 해당 국가들의 국민 수는 각각 [10, 20, 30, 20, 10, 50, 30, 20, 10, 40] 이라고 가정한 후, `income`과 국민 수를 활용하여 10개 국 전체의 임금 합을 계산하세요.\n",
        "- for loop을 사용하여 해당 수식을 구현했을 때와 비교했을 때 어떤 것이 더 효율적인지 확인해보셔도 좋습니다."
      ],
      "metadata": {
        "id": "T-qz3WCxRBje"
      }
    },
    {
      "cell_type": "code",
      "source": [],
      "metadata": {
        "id": "MCWiuIvH_6Ip"
      },
      "execution_count": null,
      "outputs": []
    },
    {
      "cell_type": "markdown",
      "source": [
        "### `Topic 3`: 선형 종속, 선형 독립\n",
        "\n",
        "\n"
      ],
      "metadata": {
        "id": "O6kQ2RRfrQsE"
      }
    },
    {
      "cell_type": "markdown",
      "source": [
        "#### **3-1. '두 벡터가 선형 종속 관계에 있다' 라는 말이 어떤 의미인지 설명해보세요.**\n",
        "- 선형 종속과 선형 독립의 의미를 생각해보세요.\n",
        "- 선형 종속인 두 벡터를 2차원 평면에 나타내면 어떻게 표현이 되는지, 시각화를 통해 이해해보셔도 좋습니다."
      ],
      "metadata": {
        "id": "C01hLAXqrk6z"
      }
    },
    {
      "cell_type": "code",
      "source": [],
      "metadata": {
        "id": "ouDS6tfO_8Ed"
      },
      "execution_count": null,
      "outputs": []
    }
  ]
}