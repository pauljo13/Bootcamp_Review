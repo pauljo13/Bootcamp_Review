{
  "cells": [
    {
      "cell_type": "markdown",
      "metadata": {
        "id": "GJ6eMDD50mwb"
      },
      "source": [
        "# **Sprint 2 Mini Project**"
      ]
    },
    {
      "cell_type": "markdown",
      "metadata": {
        "id": "_8trhbxFYMru"
      },
      "source": [
        "## Sprint 학습 목표\n",
        "- 베이지안 정리를 활용하여 확률을 업데이트하는 과정을 이해한다.\n",
        "- 통계적 개념들을 학습하고, 데이터셋을 통해 확인할 수 있다.\n",
        "- 가설을 수립하고, 검정하여 통계적으로 유의한 인사이트를 도출할 수 있다."
      ]
    },
    {
      "cell_type": "markdown",
      "metadata": {
        "id": "pghaxZS5YVKc"
      },
      "source": [
        "## Project 문제 정의"
      ]
    },
    {
      "cell_type": "markdown",
      "metadata": {
        "id": "NrFhMEzuYY5x"
      },
      "source": [
        "### 배경\n",
        "> 여러분께서는 호텔 숙박업 중개 플랫폼 회사의 데이터 분석 업무 담당자입니다.<br>\n",
        "주요 타겟 지역은 **포르투갈**이며, 효율적으로 호텔을 중개하고 매출액을 늘리기 위해서는 가설을 세우고 검정하여 추론하는 과정이 필수입니다.<br>\n",
        "<br>\n",
        "프로젝트의 주요 과제는, 데이터셋을 바탕으로, 강의 노트에서 배운 통계적 지표를 연습해보고 인사이트를 도출하는 것입니다.\n",
        "<br>\n",
        "현재 상황 분석 및 예약 취소율 감소를 위한 다양한 가설을 수립하고 검정하여, 통계적으로 유의미한 비즈니스 인사이트를 도출하는 프로젝트를 진행해보세요."
      ]
    },
    {
      "cell_type": "markdown",
      "metadata": {
        "id": "7t1i27aeH8Se"
      },
      "source": [
        "### 목표\n",
        "\n",
        "> - 베이지안 정리를 활용하여, 확률을 업데이트하는 과정을 이해한다.\n",
        "- 데이터셋을 바탕으로, 다양한 통계 이론을 연습하고 학습한다.\n",
        "- 가설을 수립하고 검정하는 과정을 통해, 통계적으로 유의한지 확인한다."
      ]
    },
    {
      "cell_type": "markdown",
      "metadata": {
        "id": "GpOY9q8IJHEP"
      },
      "source": [
        "## **N121 Bayes Theorem**\n",
        "\n",
        "### 오늘의 목표\n",
        "- 베이지안 이론을 활용하여, 몬티홀 문제를 설명할 수 있다.\n",
        "- 주어진 데이터셋을 바탕으로, 베이지안 이론을 활용할 수 있다."
      ]
    },
    {
      "cell_type": "markdown",
      "metadata": {
        "id": "9t7zJvias44H"
      },
      "source": [
        "### `Topic 1` : 몬티홀 문제\n",
        "\n",
        "\n",
        "다음 [영상](https://www.youtube.com/watch?v=UexhMS_F5Qw)에서 등장하는 몬티홀 딜레마 문제를 베이지안 공식을 활용하여 해결해보세요.\n",
        "\n",
        "- 처음에 1번 문을 선택했다고 가정합니다. 진행자가 남은 두 개의 문 중 염소가 있는 문 하나를 공개한 상태에서 기존에 선택했던 문(1번문)에 자동차가 있을 확률을 구하세요. \n",
        "\n",
        "- 처음 선택을 유지하는 것이 유리한\b지, 아니면 선택을 바꾸는 것이 유리한지 생각해보세요."
      ]
    },
    {
      "cell_type": "markdown",
      "metadata": {
        "id": "Dq0rbD6ztRXa"
      },
      "source": [
        "```\n",
        "Hypothesis: 1번 문 뒤에 자동차가 있음\n",
        "Evidence: 진행자가 염소가 있는 문을 열어줌\n",
        "\n",
        "우리가 알고자 하는 것: P(H|E) -> 진행자가 염소가 있는 문을 열었을 때, 우리가 먼저 선택했던 문 안에 자동차가 있을 확률\n",
        "```\n"
      ]
    },
    {
      "cell_type": "markdown",
      "metadata": {
        "id": "B0azeT7CtYIS"
      },
      "source": [
        "#### **1-1. 진행자가 남은 두 개의 문 중 염소가 있는 문 하나를 공개한 상태에서 기존에 선택했던 문에 자동차가 있을 확률을 구하세요.**\n",
        "- 처음에 1번 문을 선택했다고 가정합니다."
      ]
    },
    {
      "cell_type": "code",
      "execution_count": 1,
      "metadata": {
        "id": "4IJAak6S-esC"
      },
      "outputs": [
        {
          "name": "stdout",
          "output_type": "stream",
          "text": [
            "정답을 맞출 확률은 0.33 또는 33% 입니다.\n"
          ]
        }
      ],
      "source": [
        "total_choices = 3\n",
        "\n",
        "correct_answers = 1\n",
        "\n",
        "probability = correct_answers / total_choices\n",
        "\n",
        "print(f'정답을 맞출 확률은 {probability:.2f} 또는 {probability*100:.0f}% 입니다.')\n",
        "# 처음 선택한 선택지의 확률은 염소가 있는 문이 열려도 동일하다."
      ]
    },
    {
      "cell_type": "markdown",
      "metadata": {
        "id": "ylbumjxutjPh"
      },
      "source": [
        "#### **1-2. 선택을 바꾸시겠습니까?**\n",
        "- 처음에 했던 선택을 유지하는 것이 유리할지, 아니면 선택을 바꾸는 것이 유리할지 생각해보세요."
      ]
    },
    {
      "cell_type": "code",
      "execution_count": 2,
      "metadata": {
        "id": "TbB2lse7-f9y"
      },
      "outputs": [
        {
          "name": "stdout",
          "output_type": "stream",
          "text": [
            "정답을 맞출 확률은 0.67 또는 67% 입니다.\n"
          ]
        }
      ],
      "source": [
        "total_choices = 3\n",
        "\n",
        "correct_answers = 2\n",
        "\n",
        "probability = correct_answers / total_choices\n",
        "\n",
        "print(f'정답을 맞출 확률은 {probability:.2f} 또는 {probability*100:.0f}% 입니다.')\n",
        "# 다른 문에 차가 있을 확률은 3분의 2로 확률이 올라간다. 그렇기에 바꾸는 것이 유리하다."
      ]
    },
    {
      "cell_type": "markdown",
      "metadata": {
        "id": "_m2XxOryJh00"
      },
      "source": [
        "### **데이터셋 불러오기 : Hotel 데이터셋**\n",
        "분석에 앞서, 아래의 데이터셋 설명을 통해 어떤 정보를 가진 데이터셋인지 파악 후 코드를 통해 데이터셋을 불러오세요.\n",
        "\n",
        "<br>\n",
        "\n",
        "> **hotel 데이터셋 설명 (Description)** <br>\n",
        "호텔 숙박 플랫폼에 등록된 예약 정보 데이터\n",
        "- 이전에 플랫폼을 사용하여 예약한 경험 + 취소 이력이 없는 사람으로 이루어진 데이터셋\n",
        "\n",
        "- `hotel` : 호텔 종류\n",
        "- `is_canceled` : 예매 취소 여부\n",
        "- `lead_time` : 예매한 날짜와 도착 날짜 사이에 경과된 일수\n",
        "- `arrival_date_year` : 도착 연도\n",
        "- `arrival_date_month` : 도착 월\n",
        "- `arrival_date_week_number` : 도착한 주 (e.g. 5주차)\n",
        "- `arrival_date_day_of_month` : 도착한 날짜(일)\n",
        "- `stays_in_weekend_nights` : 총 숙박 기간 중 주말 숙박의 개수\n",
        "\n",
        "- `stays_in_week_nights` : 총 숙박 기간 중 주중 숙박의 개수\n",
        "- `adults` : 숙박 고객 중 어른의 숫자\n",
        "- `children` : 숙박 고객 중 아이의 숫자\n",
        "- `deposit_type` : 보증금 종류\n",
        "- `days_in_waiting_list` : 고객이 예약을 확정하기 전 대기 리스트에 있던 일수\n",
        "- `adr` : 일일 평균 객실료 (모든 숙박 거래의 합계를 총 숙박 일수로 나눈 평균 일 요금)\n",
        "- `arrival_date` : 도착 날짜\n",
        "- `arrival_day` : 도착 요일\n",
        "- `reservation_status` : 예약 상태\n",
        "- `reservation_status_date` : 예약 상태가 변화한 날짜\n",
        "- `status_changed_day` : 예약 상태가 변화한 요일"
      ]
    },
    {
      "cell_type": "code",
      "execution_count": 3,
      "metadata": {
        "id": "TO02Znh7-jJv"
      },
      "outputs": [],
      "source": [
        "import random\n",
        "import numpy as np\n",
        "import pandas as pd\n",
        "import matplotlib.pyplot as plt\n",
        "import seaborn as sns"
      ]
    },
    {
      "cell_type": "code",
      "execution_count": 6,
      "metadata": {},
      "outputs": [
        {
          "data": {
            "text/html": [
              "<div>\n",
              "<style scoped>\n",
              "    .dataframe tbody tr th:only-of-type {\n",
              "        vertical-align: middle;\n",
              "    }\n",
              "\n",
              "    .dataframe tbody tr th {\n",
              "        vertical-align: top;\n",
              "    }\n",
              "\n",
              "    .dataframe thead th {\n",
              "        text-align: right;\n",
              "    }\n",
              "</style>\n",
              "<table border=\"1\" class=\"dataframe\">\n",
              "  <thead>\n",
              "    <tr style=\"text-align: right;\">\n",
              "      <th></th>\n",
              "      <th>hotel</th>\n",
              "      <th>is_canceled</th>\n",
              "      <th>lead_time</th>\n",
              "      <th>arrival_date_year</th>\n",
              "      <th>arrival_date_month</th>\n",
              "      <th>arrival_date_week_number</th>\n",
              "      <th>arrival_date_day_of_month</th>\n",
              "      <th>stays_in_weekend_nights</th>\n",
              "      <th>stays_in_week_nights</th>\n",
              "      <th>adults</th>\n",
              "      <th>children</th>\n",
              "      <th>deposit_type</th>\n",
              "      <th>days_in_waiting_list</th>\n",
              "      <th>adr</th>\n",
              "      <th>arrival_date</th>\n",
              "      <th>arrival_day</th>\n",
              "      <th>reservation_status</th>\n",
              "      <th>reservation_status_date</th>\n",
              "      <th>status_changed_day</th>\n",
              "    </tr>\n",
              "  </thead>\n",
              "  <tbody>\n",
              "    <tr>\n",
              "      <th>0</th>\n",
              "      <td>Resort Hotel</td>\n",
              "      <td>0</td>\n",
              "      <td>342</td>\n",
              "      <td>2015</td>\n",
              "      <td>7</td>\n",
              "      <td>27</td>\n",
              "      <td>1</td>\n",
              "      <td>0</td>\n",
              "      <td>0</td>\n",
              "      <td>2</td>\n",
              "      <td>0.0</td>\n",
              "      <td>No Deposit</td>\n",
              "      <td>0</td>\n",
              "      <td>0.00</td>\n",
              "      <td>2015-07-01</td>\n",
              "      <td>Wednesday</td>\n",
              "      <td>Check-Out</td>\n",
              "      <td>2015-07-01</td>\n",
              "      <td>Wednesday</td>\n",
              "    </tr>\n",
              "    <tr>\n",
              "      <th>1</th>\n",
              "      <td>Resort Hotel</td>\n",
              "      <td>0</td>\n",
              "      <td>737</td>\n",
              "      <td>2015</td>\n",
              "      <td>7</td>\n",
              "      <td>27</td>\n",
              "      <td>1</td>\n",
              "      <td>0</td>\n",
              "      <td>0</td>\n",
              "      <td>2</td>\n",
              "      <td>0.0</td>\n",
              "      <td>No Deposit</td>\n",
              "      <td>0</td>\n",
              "      <td>0.00</td>\n",
              "      <td>2015-07-01</td>\n",
              "      <td>Wednesday</td>\n",
              "      <td>Check-Out</td>\n",
              "      <td>2015-07-01</td>\n",
              "      <td>Wednesday</td>\n",
              "    </tr>\n",
              "    <tr>\n",
              "      <th>2</th>\n",
              "      <td>Resort Hotel</td>\n",
              "      <td>0</td>\n",
              "      <td>7</td>\n",
              "      <td>2015</td>\n",
              "      <td>7</td>\n",
              "      <td>27</td>\n",
              "      <td>1</td>\n",
              "      <td>0</td>\n",
              "      <td>1</td>\n",
              "      <td>1</td>\n",
              "      <td>0.0</td>\n",
              "      <td>No Deposit</td>\n",
              "      <td>0</td>\n",
              "      <td>75.00</td>\n",
              "      <td>2015-07-01</td>\n",
              "      <td>Wednesday</td>\n",
              "      <td>Check-Out</td>\n",
              "      <td>2015-07-02</td>\n",
              "      <td>Thursday</td>\n",
              "    </tr>\n",
              "    <tr>\n",
              "      <th>3</th>\n",
              "      <td>Resort Hotel</td>\n",
              "      <td>0</td>\n",
              "      <td>13</td>\n",
              "      <td>2015</td>\n",
              "      <td>7</td>\n",
              "      <td>27</td>\n",
              "      <td>1</td>\n",
              "      <td>0</td>\n",
              "      <td>1</td>\n",
              "      <td>1</td>\n",
              "      <td>0.0</td>\n",
              "      <td>No Deposit</td>\n",
              "      <td>0</td>\n",
              "      <td>75.00</td>\n",
              "      <td>2015-07-01</td>\n",
              "      <td>Wednesday</td>\n",
              "      <td>Check-Out</td>\n",
              "      <td>2015-07-02</td>\n",
              "      <td>Thursday</td>\n",
              "    </tr>\n",
              "    <tr>\n",
              "      <th>4</th>\n",
              "      <td>Resort Hotel</td>\n",
              "      <td>0</td>\n",
              "      <td>14</td>\n",
              "      <td>2015</td>\n",
              "      <td>7</td>\n",
              "      <td>27</td>\n",
              "      <td>1</td>\n",
              "      <td>0</td>\n",
              "      <td>2</td>\n",
              "      <td>2</td>\n",
              "      <td>0.0</td>\n",
              "      <td>No Deposit</td>\n",
              "      <td>0</td>\n",
              "      <td>98.00</td>\n",
              "      <td>2015-07-01</td>\n",
              "      <td>Wednesday</td>\n",
              "      <td>Check-Out</td>\n",
              "      <td>2015-07-03</td>\n",
              "      <td>Friday</td>\n",
              "    </tr>\n",
              "    <tr>\n",
              "      <th>...</th>\n",
              "      <td>...</td>\n",
              "      <td>...</td>\n",
              "      <td>...</td>\n",
              "      <td>...</td>\n",
              "      <td>...</td>\n",
              "      <td>...</td>\n",
              "      <td>...</td>\n",
              "      <td>...</td>\n",
              "      <td>...</td>\n",
              "      <td>...</td>\n",
              "      <td>...</td>\n",
              "      <td>...</td>\n",
              "      <td>...</td>\n",
              "      <td>...</td>\n",
              "      <td>...</td>\n",
              "      <td>...</td>\n",
              "      <td>...</td>\n",
              "      <td>...</td>\n",
              "      <td>...</td>\n",
              "    </tr>\n",
              "    <tr>\n",
              "      <th>110018</th>\n",
              "      <td>City Hotel</td>\n",
              "      <td>0</td>\n",
              "      <td>23</td>\n",
              "      <td>2017</td>\n",
              "      <td>8</td>\n",
              "      <td>35</td>\n",
              "      <td>30</td>\n",
              "      <td>2</td>\n",
              "      <td>5</td>\n",
              "      <td>2</td>\n",
              "      <td>0.0</td>\n",
              "      <td>No Deposit</td>\n",
              "      <td>0</td>\n",
              "      <td>96.14</td>\n",
              "      <td>2017-08-30</td>\n",
              "      <td>Wednesday</td>\n",
              "      <td>Check-Out</td>\n",
              "      <td>2017-09-06</td>\n",
              "      <td>Wednesday</td>\n",
              "    </tr>\n",
              "    <tr>\n",
              "      <th>110019</th>\n",
              "      <td>City Hotel</td>\n",
              "      <td>0</td>\n",
              "      <td>102</td>\n",
              "      <td>2017</td>\n",
              "      <td>8</td>\n",
              "      <td>35</td>\n",
              "      <td>31</td>\n",
              "      <td>2</td>\n",
              "      <td>5</td>\n",
              "      <td>3</td>\n",
              "      <td>0.0</td>\n",
              "      <td>No Deposit</td>\n",
              "      <td>0</td>\n",
              "      <td>225.43</td>\n",
              "      <td>2017-08-31</td>\n",
              "      <td>Thursday</td>\n",
              "      <td>Check-Out</td>\n",
              "      <td>2017-09-07</td>\n",
              "      <td>Thursday</td>\n",
              "    </tr>\n",
              "    <tr>\n",
              "      <th>110020</th>\n",
              "      <td>City Hotel</td>\n",
              "      <td>0</td>\n",
              "      <td>34</td>\n",
              "      <td>2017</td>\n",
              "      <td>8</td>\n",
              "      <td>35</td>\n",
              "      <td>31</td>\n",
              "      <td>2</td>\n",
              "      <td>5</td>\n",
              "      <td>2</td>\n",
              "      <td>0.0</td>\n",
              "      <td>No Deposit</td>\n",
              "      <td>0</td>\n",
              "      <td>157.71</td>\n",
              "      <td>2017-08-31</td>\n",
              "      <td>Thursday</td>\n",
              "      <td>Check-Out</td>\n",
              "      <td>2017-09-07</td>\n",
              "      <td>Thursday</td>\n",
              "    </tr>\n",
              "    <tr>\n",
              "      <th>110021</th>\n",
              "      <td>City Hotel</td>\n",
              "      <td>0</td>\n",
              "      <td>109</td>\n",
              "      <td>2017</td>\n",
              "      <td>8</td>\n",
              "      <td>35</td>\n",
              "      <td>31</td>\n",
              "      <td>2</td>\n",
              "      <td>5</td>\n",
              "      <td>2</td>\n",
              "      <td>0.0</td>\n",
              "      <td>No Deposit</td>\n",
              "      <td>0</td>\n",
              "      <td>104.40</td>\n",
              "      <td>2017-08-31</td>\n",
              "      <td>Thursday</td>\n",
              "      <td>Check-Out</td>\n",
              "      <td>2017-09-07</td>\n",
              "      <td>Thursday</td>\n",
              "    </tr>\n",
              "    <tr>\n",
              "      <th>110022</th>\n",
              "      <td>City Hotel</td>\n",
              "      <td>0</td>\n",
              "      <td>205</td>\n",
              "      <td>2017</td>\n",
              "      <td>8</td>\n",
              "      <td>35</td>\n",
              "      <td>29</td>\n",
              "      <td>2</td>\n",
              "      <td>7</td>\n",
              "      <td>2</td>\n",
              "      <td>0.0</td>\n",
              "      <td>No Deposit</td>\n",
              "      <td>0</td>\n",
              "      <td>151.20</td>\n",
              "      <td>2017-08-29</td>\n",
              "      <td>Tuesday</td>\n",
              "      <td>Check-Out</td>\n",
              "      <td>2017-09-07</td>\n",
              "      <td>Thursday</td>\n",
              "    </tr>\n",
              "  </tbody>\n",
              "</table>\n",
              "<p>110023 rows × 19 columns</p>\n",
              "</div>"
            ],
            "text/plain": [
              "               hotel  is_canceled  lead_time  arrival_date_year  \\\n",
              "0       Resort Hotel            0        342               2015   \n",
              "1       Resort Hotel            0        737               2015   \n",
              "2       Resort Hotel            0          7               2015   \n",
              "3       Resort Hotel            0         13               2015   \n",
              "4       Resort Hotel            0         14               2015   \n",
              "...              ...          ...        ...                ...   \n",
              "110018    City Hotel            0         23               2017   \n",
              "110019    City Hotel            0        102               2017   \n",
              "110020    City Hotel            0         34               2017   \n",
              "110021    City Hotel            0        109               2017   \n",
              "110022    City Hotel            0        205               2017   \n",
              "\n",
              "        arrival_date_month  arrival_date_week_number  \\\n",
              "0                        7                        27   \n",
              "1                        7                        27   \n",
              "2                        7                        27   \n",
              "3                        7                        27   \n",
              "4                        7                        27   \n",
              "...                    ...                       ...   \n",
              "110018                   8                        35   \n",
              "110019                   8                        35   \n",
              "110020                   8                        35   \n",
              "110021                   8                        35   \n",
              "110022                   8                        35   \n",
              "\n",
              "        arrival_date_day_of_month  stays_in_weekend_nights  \\\n",
              "0                               1                        0   \n",
              "1                               1                        0   \n",
              "2                               1                        0   \n",
              "3                               1                        0   \n",
              "4                               1                        0   \n",
              "...                           ...                      ...   \n",
              "110018                         30                        2   \n",
              "110019                         31                        2   \n",
              "110020                         31                        2   \n",
              "110021                         31                        2   \n",
              "110022                         29                        2   \n",
              "\n",
              "        stays_in_week_nights  adults  children deposit_type  \\\n",
              "0                          0       2       0.0   No Deposit   \n",
              "1                          0       2       0.0   No Deposit   \n",
              "2                          1       1       0.0   No Deposit   \n",
              "3                          1       1       0.0   No Deposit   \n",
              "4                          2       2       0.0   No Deposit   \n",
              "...                      ...     ...       ...          ...   \n",
              "110018                     5       2       0.0   No Deposit   \n",
              "110019                     5       3       0.0   No Deposit   \n",
              "110020                     5       2       0.0   No Deposit   \n",
              "110021                     5       2       0.0   No Deposit   \n",
              "110022                     7       2       0.0   No Deposit   \n",
              "\n",
              "        days_in_waiting_list     adr arrival_date arrival_day  \\\n",
              "0                          0    0.00   2015-07-01   Wednesday   \n",
              "1                          0    0.00   2015-07-01   Wednesday   \n",
              "2                          0   75.00   2015-07-01   Wednesday   \n",
              "3                          0   75.00   2015-07-01   Wednesday   \n",
              "4                          0   98.00   2015-07-01   Wednesday   \n",
              "...                      ...     ...          ...         ...   \n",
              "110018                     0   96.14   2017-08-30   Wednesday   \n",
              "110019                     0  225.43   2017-08-31    Thursday   \n",
              "110020                     0  157.71   2017-08-31    Thursday   \n",
              "110021                     0  104.40   2017-08-31    Thursday   \n",
              "110022                     0  151.20   2017-08-29     Tuesday   \n",
              "\n",
              "       reservation_status reservation_status_date status_changed_day  \n",
              "0               Check-Out              2015-07-01          Wednesday  \n",
              "1               Check-Out              2015-07-01          Wednesday  \n",
              "2               Check-Out              2015-07-02           Thursday  \n",
              "3               Check-Out              2015-07-02           Thursday  \n",
              "4               Check-Out              2015-07-03             Friday  \n",
              "...                   ...                     ...                ...  \n",
              "110018          Check-Out              2017-09-06          Wednesday  \n",
              "110019          Check-Out              2017-09-07           Thursday  \n",
              "110020          Check-Out              2017-09-07           Thursday  \n",
              "110021          Check-Out              2017-09-07           Thursday  \n",
              "110022          Check-Out              2017-09-07           Thursday  \n",
              "\n",
              "[110023 rows x 19 columns]"
            ]
          },
          "execution_count": 6,
          "metadata": {},
          "output_type": "execute_result"
        }
      ],
      "source": [
        "df = pd.read_csv(\"csv/hotel.csv\")\n",
        "df"
      ]
    },
    {
      "cell_type": "code",
      "execution_count": 8,
      "metadata": {},
      "outputs": [
        {
          "name": "stdout",
          "output_type": "stream",
          "text": [
            "<class 'pandas.core.frame.DataFrame'>\n",
            "RangeIndex: 110023 entries, 0 to 110022\n",
            "Data columns (total 19 columns):\n",
            " #   Column                     Non-Null Count   Dtype  \n",
            "---  ------                     --------------   -----  \n",
            " 0   hotel                      110023 non-null  object \n",
            " 1   is_canceled                110023 non-null  int64  \n",
            " 2   lead_time                  110023 non-null  int64  \n",
            " 3   arrival_date_year          110023 non-null  int64  \n",
            " 4   arrival_date_month         110023 non-null  int64  \n",
            " 5   arrival_date_week_number   110023 non-null  int64  \n",
            " 6   arrival_date_day_of_month  110023 non-null  int64  \n",
            " 7   stays_in_weekend_nights    110023 non-null  int64  \n",
            " 8   stays_in_week_nights       110023 non-null  int64  \n",
            " 9   adults                     110023 non-null  int64  \n",
            " 10  children                   110019 non-null  float64\n",
            " 11  deposit_type               110023 non-null  object \n",
            " 12  days_in_waiting_list       110023 non-null  int64  \n",
            " 13  adr                        110023 non-null  float64\n",
            " 14  arrival_date               110023 non-null  object \n",
            " 15  arrival_day                110023 non-null  object \n",
            " 16  reservation_status         110023 non-null  object \n",
            " 17  reservation_status_date    110023 non-null  object \n",
            " 18  status_changed_day         110023 non-null  object \n",
            "dtypes: float64(2), int64(10), object(7)\n",
            "memory usage: 15.9+ MB\n"
          ]
        }
      ],
      "source": [
        "df.info()"
      ]
    },
    {
      "cell_type": "code",
      "execution_count": 9,
      "metadata": {},
      "outputs": [
        {
          "data": {
            "text/plain": [
              "hotel                        0\n",
              "is_canceled                  0\n",
              "lead_time                    0\n",
              "arrival_date_year            0\n",
              "arrival_date_month           0\n",
              "arrival_date_week_number     0\n",
              "arrival_date_day_of_month    0\n",
              "stays_in_weekend_nights      0\n",
              "stays_in_week_nights         0\n",
              "adults                       0\n",
              "children                     4\n",
              "deposit_type                 0\n",
              "days_in_waiting_list         0\n",
              "adr                          0\n",
              "arrival_date                 0\n",
              "arrival_day                  0\n",
              "reservation_status           0\n",
              "reservation_status_date      0\n",
              "status_changed_day           0\n",
              "dtype: int64"
            ]
          },
          "execution_count": 9,
          "metadata": {},
          "output_type": "execute_result"
        }
      ],
      "source": [
        "df.isnull().sum()"
      ]
    },
    {
      "cell_type": "code",
      "execution_count": 12,
      "metadata": {},
      "outputs": [
        {
          "data": {
            "text/plain": [
              "32614"
            ]
          },
          "execution_count": 12,
          "metadata": {},
          "output_type": "execute_result"
        }
      ],
      "source": [
        "df.duplicated().sum()"
      ]
    },
    {
      "cell_type": "code",
      "execution_count": 14,
      "metadata": {},
      "outputs": [
        {
          "data": {
            "text/plain": [
              "(110023, 19)"
            ]
          },
          "execution_count": 14,
          "metadata": {},
          "output_type": "execute_result"
        }
      ],
      "source": [
        "df.shape"
      ]
    },
    {
      "cell_type": "code",
      "execution_count": 17,
      "metadata": {},
      "outputs": [
        {
          "data": {
            "text/plain": [
              "reservation_status\n",
              "Check-Out    71831\n",
              "Canceled     37031\n",
              "No-Show       1161\n",
              "Name: count, dtype: int64"
            ]
          },
          "execution_count": 17,
          "metadata": {},
          "output_type": "execute_result"
        }
      ],
      "source": [
        "df.reservation_status.value_counts()"
      ]
    },
    {
      "cell_type": "markdown",
      "metadata": {
        "id": "V4Kp76fwCFsy"
      },
      "source": [
        "### `Topic 2` : 베이지안 정리 적용"
      ]
    },
    {
      "cell_type": "markdown",
      "metadata": {
        "id": "cKc8FRwbCR7d"
      },
      "source": [
        "#### **2-1. 고객이 리조트 호텔을 예약했을 때, 예약을 취소할 확률은 어떻게 변하나요?**\n",
        "> Bayesian Theorem의 공식을 대입해보면 아래와 같습니다. <br>\n",
        "<br>\n",
        "> $P(cancel|resort) = P(cancel \\cap resort) / P(resort) = P(resort|cancel)P(cancel) / P(resort)$\n",
        "<br>\n",
        "\n",
        "- 예약을 취소하는 사전 확률($P(cancel)$)은 **이유 불충분의 원리**에 따라 `0.5`로 설정합니다.\n",
        "- 데이터셋을 바탕으로, 아래의 확률을 도출해보세요.\n",
        "  - 예매를 취소했는데, Resort Hotel을 예약한 경우 ($P(resort|cancel)$) : `resort_yes_cancel`\n",
        "  - 예매를 취소하지 않았는데, Resort Hotel을 예약한 경우 ($P(resort|not \\; cancel)$) : `resort_no_cancel`\n",
        "- 상기한 경우들을 바탕으로, 베이지안 정리를 통해 사전 확률을 업데이트하는 함수를 완성해보세요.\n",
        "   - 다음 `bayesian_hotel` 함수를 완성하여 사후확률을 구하는 것이 어렵다면, warm-up 영상에서 나온 사각형 방식으로 사후확률을 계산해보세요.\n",
        "\n"
      ]
    },
    {
      "cell_type": "code",
      "execution_count": 28,
      "metadata": {},
      "outputs": [
        {
          "data": {
            "text/plain": [
              "is_canceled\n",
              "0    71831\n",
              "1    38192\n",
              "Name: count, dtype: int64"
            ]
          },
          "execution_count": 28,
          "metadata": {},
          "output_type": "execute_result"
        }
      ],
      "source": [
        "df.is_canceled.value_counts()"
      ]
    },
    {
      "cell_type": "code",
      "execution_count": 27,
      "metadata": {},
      "outputs": [
        {
          "data": {
            "text/plain": [
              "(37372, 19)"
            ]
          },
          "execution_count": 27,
          "metadata": {},
          "output_type": "execute_result"
        }
      ],
      "source": [
        "RH_df = df[(df[\"hotel\"] == \"Resort Hotel\")]\n",
        "RH_df.shape"
      ]
    },
    {
      "cell_type": "code",
      "execution_count": 33,
      "metadata": {},
      "outputs": [],
      "source": [
        "resort_yes_cancel = RH_df[(RH_df[\"is_canceled\"] == 1)].shape[0] / df[(df[\"is_canceled\"] == 1)].shape[0]\n",
        "resort_no_cancel = RH_df[(RH_df[\"is_canceled\"] == 0)].shape[0] / df[(df[\"is_canceled\"] == 0)].shape[0]\n"
      ]
    },
    {
      "cell_type": "code",
      "execution_count": 32,
      "metadata": {
        "id": "iCThClO1d4TA"
      },
      "outputs": [],
      "source": [
        "# Resort Hotel을 예약했을 때, 예매를 취소할 확률 = posterior (사후 확률)\n",
        "\n",
        "def bayesian_hotel(prior, resort_yes_cancel, resort_no_cancel):\n",
        "  '''\n",
        "  parameters:\n",
        "    - prior: 사전 확률 (예약을 취소할 확률)\n",
        "    - resort_yes_cancel: 예매를 취소했는데 resort hotel을 예약한 경우\n",
        "    - resort_no_cancel: 예매를 취소하지 않았는데 resort hotel을 예약한 경우\n",
        "  \n",
        "  return:\n",
        "    - posterior: 사후 확률\n",
        "\n",
        "  '''\n",
        "  # 이곳에 코드를 작성하세요\n",
        "  posterior = (resort_yes_cancel * prior) / resort_no_cancel\n",
        "  return posterior"
      ]
    },
    {
      "cell_type": "code",
      "execution_count": 34,
      "metadata": {},
      "outputs": [
        {
          "data": {
            "text/plain": [
              "0.35191698366072954"
            ]
          },
          "execution_count": 34,
          "metadata": {},
          "output_type": "execute_result"
        }
      ],
      "source": [
        "bayesian_hotel(0.5, resort_yes_cancel, resort_no_cancel)"
      ]
    },
    {
      "cell_type": "code",
      "execution_count": 39,
      "metadata": {},
      "outputs": [
        {
          "data": {
            "text/plain": [
              "0.3529288006432638"
            ]
          },
          "execution_count": 39,
          "metadata": {},
          "output_type": "execute_result"
        }
      ],
      "source": [
        "resort_yes_cancel2 = df[(df[\"is_canceled\"] == 1) & (df[\"reservation_status\"] == \"Canceled\") & (df[\"hotel\"] == \"Resort Hotel\")].shape[0] / df[(df[\"is_canceled\"] == 1) & (df[\"reservation_status\"] == \"Canceled\")].shape[0]\n",
        "resort_no_cancel2 = df[(df[\"is_canceled\"] == 0) & (df[\"reservation_status\"] != \"Canceled\") & (df[\"hotel\"] == \"Resort Hotel\")].shape[0] / df[(df[\"is_canceled\"] == 0) & (df[\"reservation_status\"] != \"Canceled\")].shape[0]\n",
        "bayesian_hotel(0.5, resort_yes_cancel2, resort_no_cancel2)"
      ]
    },
    {
      "cell_type": "markdown",
      "metadata": {
        "id": "MBrrY0aZnULE"
      },
      "source": [
        "### **Conclusion**\n",
        "> * 고객이 리조트 호텔을 예약했을 때, 예약을 취소할 확률은 어떻게 변하는지 설명해주세요.\n",
        "* 베이지안 정리에 대해 정의해보고 실생활에서 사용되는 예시를 찾아보세요."
      ]
    },
    {
      "cell_type": "code",
      "execution_count": null,
      "metadata": {
        "id": "I0_-qgHkO888"
      },
      "outputs": [],
      "source": []
    },
    {
      "cell_type": "markdown",
      "metadata": {
        "id": "zf9WQrm_Fhmr"
      },
      "source": [
        "#### **Optional. 예약한 호텔 종류 외에, 다양한 데이터를 바탕으로 위에서 구한 확률을 업데이트 해보세요.**\n",
        "- 다양한 column의 데이터를 활용하여, 위에서 구한 확률을 사전확률로 설정하고 베이지안 정리를 통해 업데이트 해보세요."
      ]
    },
    {
      "cell_type": "code",
      "execution_count": null,
      "metadata": {
        "id": "2hsKj0g4BxKJ"
      },
      "outputs": [],
      "source": []
    }
  ],
  "metadata": {
    "colab": {
      "provenance": []
    },
    "kernelspec": {
      "display_name": "Python 3",
      "name": "python3"
    },
    "language_info": {
      "codemirror_mode": {
        "name": "ipython",
        "version": 3
      },
      "file_extension": ".py",
      "mimetype": "text/x-python",
      "name": "python",
      "nbconvert_exporter": "python",
      "pygments_lexer": "ipython3",
      "version": "3.8.17"
    }
  },
  "nbformat": 4,
  "nbformat_minor": 0
}
